{
 "cells": [
  {
   "cell_type": "markdown",
   "metadata": {},
   "source": [
    "# Stroop test Analysis"
   ]
  },
  {
   "cell_type": "markdown",
   "metadata": {},
   "source": [
    "**Task 1**: Identify the independent and dependent variables\n",
    "\n",
    "independent variable: the respective condition of the stroop task (congruent and incongruent words condition, respectively)\n",
    "\n",
    "dependent variable: time it takes to name the ink colors in equally-sized lists"
   ]
  },
  {
   "cell_type": "markdown",
   "metadata": {},
   "source": [
    "**Task 2** What is an appropriate set of hypotheses for this task? What kind of statistical test do you expect to perform? Justify your choices.\n",
    "\n",
    "H0 (Null Hypothesis): There is either no difference in time it takes to name the ink colors between the congruent and incongruent test setup, or it takes less time in the incongruent setup. **µ(incongruent setup) ≤ µ(congruent setup)**\n",
    "\n",
    "H1 (Alternative Hypothesis): It takes more time to name the ink colors in the incongruent setup. \n",
    "**µ(incongruent setup) > µ(congruent setup)**\n",
    "\n",
    "I assume the test results, and thus the alternative hypothesis, to be directional, because the incongruent setup requires to perform two tasks (read the word followed by identifying the correct color) in contrast to the congruent setup, which requires only one task (read the word). Thus, it is consequent that performing two tasks will take more time.\n",
    "\n",
    "Based on the posed hypothesis, I will perform a dependent t-test, because two conditions on the same subjects are being tested. Moreover, it will be a one-tailed t-test, since the hypothesis to be tested is directional.  \n"
   ]
  },
  {
   "cell_type": "markdown",
   "metadata": {},
   "source": [
    "**Task 3** Report some descriptive statistics regarding this dataset. Include at least one measure of central tendency and at least one measure of variability.\n",
    "\n",
    "summary for the congruent data set: mean= 14.05, median= 14.36, standard deviation= 3.56, IQR= 11.9-16.2 min\n",
    "\n",
    "summary for the incongruent data set: mean= 22.02, median= 21.02, standard deviation= 4.8, IQR= 18.72-24.05 min\n",
    "\n"
   ]
  },
  {
   "cell_type": "code",
   "execution_count": 1,
   "metadata": {
    "collapsed": true
   },
   "outputs": [],
   "source": [
    "import pandas as pd\n",
    "import numpy as np\n",
    "import matplotlib.pyplot as plt"
   ]
  },
  {
   "cell_type": "code",
   "execution_count": 2,
   "metadata": {
    "collapsed": false
   },
   "outputs": [],
   "source": [
    "stroop_data=pd.read_csv(\"stroopdata.csv\")"
   ]
  },
  {
   "cell_type": "code",
   "execution_count": 327,
   "metadata": {
    "collapsed": false
   },
   "outputs": [
    {
     "data": {
      "text/html": [
       "<div>\n",
       "<table border=\"1\" class=\"dataframe\">\n",
       "  <thead>\n",
       "    <tr style=\"text-align: right;\">\n",
       "      <th></th>\n",
       "      <th>Congruent</th>\n",
       "      <th>Incongruent</th>\n",
       "    </tr>\n",
       "  </thead>\n",
       "  <tbody>\n",
       "    <tr>\n",
       "      <th>0</th>\n",
       "      <td>12.079</td>\n",
       "      <td>19.278</td>\n",
       "    </tr>\n",
       "    <tr>\n",
       "      <th>1</th>\n",
       "      <td>16.791</td>\n",
       "      <td>18.741</td>\n",
       "    </tr>\n",
       "    <tr>\n",
       "      <th>2</th>\n",
       "      <td>9.564</td>\n",
       "      <td>21.214</td>\n",
       "    </tr>\n",
       "    <tr>\n",
       "      <th>3</th>\n",
       "      <td>8.630</td>\n",
       "      <td>15.687</td>\n",
       "    </tr>\n",
       "    <tr>\n",
       "      <th>4</th>\n",
       "      <td>14.669</td>\n",
       "      <td>22.803</td>\n",
       "    </tr>\n",
       "  </tbody>\n",
       "</table>\n",
       "</div>"
      ],
      "text/plain": [
       "   Congruent  Incongruent\n",
       "0     12.079       19.278\n",
       "1     16.791       18.741\n",
       "2      9.564       21.214\n",
       "3      8.630       15.687\n",
       "4     14.669       22.803"
      ]
     },
     "execution_count": 327,
     "metadata": {},
     "output_type": "execute_result"
    }
   ],
   "source": [
    "stroop_data.head()"
   ]
  },
  {
   "cell_type": "code",
   "execution_count": 4,
   "metadata": {
    "collapsed": false
   },
   "outputs": [
    {
     "name": "stdout",
     "output_type": "stream",
     "text": [
      "summary for the congruent data set: mean= 14.05 median= 14.36 standard deviation= 3.56\n",
      "summary for the incongruent data set: mean= 22.02 median= 21.02 standard deviation= 4.8\n"
     ]
    }
   ],
   "source": [
    "def descriptive_stat():\n",
    "    mean_cong=round(np.mean(stroop_data[\"Congruent\"]),2)\n",
    "    median_cong=round(np.median(stroop_data[\"Congruent\"]),2)\n",
    "    mean_incong=round(np.mean(stroop_data[\"Incongruent\"]),2)\n",
    "    median_incong=round(np.median(stroop_data[\"Incongruent\"]),2)\n",
    "    \n",
    "    std_cong=round(np.std(stroop_data[\"Congruent\"],ddof=1),2)\n",
    "    std_incong=round(np.std(stroop_data[\"Incongruent\"],ddof=1),2)\n",
    "    print(\"summary for the congruent data set: mean= \" +str(mean_cong) + \" median= \"+str(median_cong) +\" standard deviation= \"+ str(std_cong) +\n",
    "         \"\\nsummary for the incongruent data set: mean= \" +str(mean_incong) + \" median= \"+str(median_incong) +\" standard deviation= \"+ str(std_incong))\n",
    "    \n",
    "descriptive_stat()    "
   ]
  },
  {
   "cell_type": "code",
   "execution_count": 257,
   "metadata": {
    "collapsed": false
   },
   "outputs": [
    {
     "name": "stdout",
     "output_type": "stream",
     "text": [
      "IQR for the congruent set is between 11.9 min and 16.2 min\n",
      "IQR for the incongruent set is between 18.72 min and 24.05 min\n"
     ]
    }
   ],
   "source": [
    "def IQR():\n",
    "    cong_first_pr=round(np.percentile(stroop_data[\"Congruent\"],25),2)\n",
    "    cong_third_pr=round(np.percentile(stroop_data[\"Congruent\"],75),2)\n",
    "    \n",
    "    incong_first_pr=round(np.percentile(stroop_data[\"Incongruent\"],25),2)\n",
    "    incong_third_pr=round(np.percentile(stroop_data[\"Incongruent\"],75),2)\n",
    "    \n",
    "    print(\"IQR for the congruent set is between \"+str(cong_first_pr)+\" min\" +\" and \"+str(cong_third_pr)+ \" min\"\n",
    "         + \"\\nIQR for the incongruent set is between \" +str(incong_first_pr)+\" min\" +\" and \"+str(incong_third_pr)+ \" min\")\n",
    "IQR()"
   ]
  },
  {
   "cell_type": "markdown",
   "metadata": {},
   "source": [
    "**Task 4** Provide one or two visualizations that show the distribution of the sample data. Write one or two sentences noting what you observe about the plot or plots.\n",
    "\n",
    "The incongruent data sets show a slightly positive skewness. This data set exhibits two modes (17-18 min and 20-21 min). Moreover there is an offset between the mode, mean (22.02) and median (21.02) and two data points (>34 min) show tendency of outliers. As such, the interquartile range (18.72-24.05 min) is a better metric to describe the distribution (see also the boxplot).\n",
    "the congruent data set is (slightly) more evenly distributed around the mean (14.05) and median (14.36).\n",
    "Overall, the congruent data set shows that the majority of subjects required between 11.9 min and 16.2 min (IQR) to finish the stroop test. This is contrasted by longer time to finish the stroop test with the incongruent setup, with the majority of subjects requiring between 18.72 min and 24.05 min (IQR).\n",
    "\n",
    "\n"
   ]
  },
  {
   "cell_type": "code",
   "execution_count": 337,
   "metadata": {
    "collapsed": false
   },
   "outputs": [
    {
     "data": {
      "image/png": "[encoded data removed]",
      "text/plain": [
       "<matplotlib.figure.Figure at 0x11e608bd0>"
      ]
     },
     "metadata": {},
     "output_type": "display_data"
    }
   ],
   "source": [
    "%matplotlib inline\n",
    "def hist():\n",
    "    plt.figure(1, figsize=(12,6)) \n",
    "    \n",
    "    bins_cong=range(int(stroop_data[\"Congruent\"].min()),21,1)\n",
    "    bins_incong=range(int(stroop_data[\"Incongruent\"].min()),37,1)\n",
    "    \n",
    "    plt.subplot(1,2,1)\n",
    "    plt.hist(stroop_data[\"Congruent\"], bins=bins_cong)\n",
    "    plt.xlabel(\"time (min)\")\n",
    "    plt.ylabel(\"number of subjects\")\n",
    "    plt.title(\"Congruent stroop test (binwidth=1)\")\n",
    "    \n",
    "    plt.subplot(1,2,2)\n",
    "    plt.hist(stroop_data[\"Incongruent\"], bins=bins_incong)\n",
    "    plt.xlabel(\"time (min)\")\n",
    "    plt.ylabel(\"number of subjects\")\n",
    "    plt.title(\"Incongruent stroop test (binwidth=1)\")\n",
    "    \n",
    "hist()      "
   ]
  },
  {
   "cell_type": "code",
   "execution_count": 328,
   "metadata": {
    "collapsed": false
   },
   "outputs": [
    {
     "data": {
      "image/png": "[encoded data removed]",
      "text/plain": [
       "<matplotlib.figure.Figure at 0x11d04abd0>"
      ]
     },
     "metadata": {},
     "output_type": "display_data"
    }
   ],
   "source": [
    "def boxplot():\n",
    "    plt.figure(1, figsize=(10,6)) \n",
    "    \n",
    "    \n",
    "    plt.boxplot((stroop_data[\"Congruent\"],stroop_data[\"Incongruent\"]), labels =(\"congruent\",\"incongruent\"))\n",
    "    plt.ylabel(\"time (min)\")\n",
    "    \n",
    "boxplot()    "
   ]
  },
  {
   "cell_type": "markdown",
   "metadata": {
    "collapsed": true
   },
   "source": [
    "**Task 5** Now, perform the statistical test and report your results. What is your confidence level and your critical statistic value? Do you reject the null hypothesis or fail to reject it? Come to a conclusion in terms of the experiment task. Did the results match up with your expectations?\n",
    "\n",
    "**Parameters for the t-test**\n",
    "\n",
    "confidence level = 95%\n",
    "\n",
    "critical statistic value (t-critical) = 1.717 (alpha level = 0.05, degrees of freedom = 23)\n",
    "\n",
    "sample size = 24\n",
    "\n",
    "**Results report**\n",
    "\n",
    "There was a significant effect for stroop task conditions , **t(23) = 8.02, p < .05 (http://graphpad.com/quickcalcs/pValue1/), one tailed**, with subjects performing the task in the \"incongruent setup\" requiring longer time to finish, **confidence interval on the mean difference between the stroop task in congruent condition and the stroop task in incongruent condition; 95% CI = (5.91-10.02 min) **.\n",
    "Based on the t-test result, I reject the null hypothesis in favour of the alternative hypothesis.\n",
    "\n",
    "(The results match up with prior expectations)\n",
    "\n",
    " "
   ]
  },
  {
   "cell_type": "code",
   "execution_count": 322,
   "metadata": {
    "collapsed": false
   },
   "outputs": [
    {
     "name": "stdout",
     "output_type": "stream",
     "text": [
      "t-statistic = 8.02\n",
      "95% confidence interval = (5.91-10.02)\n"
     ]
    }
   ],
   "source": [
    "def stat_test():\n",
    "    \"\"\"\n",
    "    SD_diff:   standard deviation of the difference between the two sample conditions (congruent vs. incongruent) with n-1 degrees of freedom\n",
    "    SE_diff:   standard error of the sampling distribution \n",
    "    t_stat:    t-statistic\n",
    "    mean_diff: mean difference between the two sample conditions\n",
    "    CI_LL:     lower limit of the 95% confidence interval\n",
    "    CI_UL:     upper limit of the 95% confidence interval\n",
    "    \"\"\"\n",
    "    SD_diff=np.std((stroop_data[\"Incongruent\"]-stroop_data[\"Congruent\"]), ddof=1)\n",
    "    SE_diff=SD_diff/np.sqrt(24)\n",
    "    t_stat=(np.mean(stroop_data[\"Incongruent\"])-np.mean(stroop_data[\"Congruent\"]))/SE_diff\n",
    "    mean_diff=np.mean(stroop_data[\"Incongruent\"]-stroop_data[\"Congruent\"])\n",
    "    CI_LL=np.mean(stroop_data[\"Incongruent\"]-stroop_data[\"Congruent\"])-(2.069*SE_diff)\n",
    "    CI_UL=np.mean(stroop_data[\"Incongruent\"]-stroop_data[\"Congruent\"])+(2.069*SE_diff)\n",
    "    \n",
    "    print(\"t-statistic = \"+str(round(t_stat,2))+\"\\n95% confidence interval = \"+\"(\"+str(round(CI_LL,2))+\"-\"+str(round(CI_UL,2))+\")\")     \n",
    "    \n",
    "stat_test()"
   ]
  },
  {
   "cell_type": "markdown",
   "metadata": {},
   "source": [
    "**Task 6** Optional: What do you think is responsible for the effects observed? Can you think of an alternative or similar task that would result in a similar effect? Some research about the problem will be helpful for thinking about these two questions!\n",
    "\n",
    "The stroop effect describes the interference of automatic processes (e.g. reading) on non-automatic processes (e.g. naming objects colors). It shows that conscious control of automatic processes (here explicitly not reading the word) can be difficult (requires concentration), and as such the execution of these automatic processes will eventually influence (in terms of reaction time and accuracy) other tasks the brain is trying to plan and execute in parallel. \n",
    "\n",
    "In this context, basically every task that a person was conditioned to perform in a particular mode of execution is prone to the stroop effect. For instance, controlling the computer mouse according to different setups of the mouse x/y axes (left/right and up/down movement).\n",
    "test:\n",
    "1. start in the middle of the computer display\n",
    "2. randomly pop up an object somewhere on the display\n",
    "3. move the mouse to match the objects' position\n",
    "4. measure the time it takes to match 10 object positions\n",
    "\n",
    "perform the test with the subjects' favourable mouse x/y axes configuration (congruent) versus mouse x/y axes inverted (incongruent).\n",
    "compare the time it takes to finish the test for each condition."
   ]
  },
  {
   "cell_type": "code",
   "execution_count": null,
   "metadata": {
    "collapsed": true
   },
   "outputs": [],
   "source": []
  }
 ],
 "metadata": {
  "kernelspec": {
   "display_name": "Python 2",
   "language": "python",
   "name": "python2"
  },
  "language_info": {
   "codemirror_mode": {
    "name": "ipython",
    "version": 2
   },
   "file_extension": ".py",
   "mimetype": "text/x-python",
   "name": "python",
   "nbconvert_exporter": "python",
   "pygments_lexer": "ipython2",
   "version": "2.7.10"
  }
 },
 "nbformat": 4,
 "nbformat_minor": 0
}
